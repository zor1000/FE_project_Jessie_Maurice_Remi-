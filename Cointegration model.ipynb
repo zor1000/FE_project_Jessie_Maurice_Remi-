{
 "cells": [
  {
   "cell_type": "code",
   "execution_count": null,
   "id": "initial_id",
   "metadata": {
    "collapsed": true,
    "is_executing": true,
    "jupyter": {
     "outputs_hidden": true
    }
   },
   "outputs": [],
   "source": [
    "#pip install yfinance"
   ]
  },
  {
   "cell_type": "code",
   "execution_count": 3,
   "id": "81ff2a28ea9d011f",
   "metadata": {
    "ExecuteTime": {
     "end_time": "2024-09-23T08:12:20.599128Z",
     "start_time": "2024-09-23T08:12:09.698216Z"
    },
    "collapsed": false,
    "jupyter": {
     "outputs_hidden": false
    }
   },
   "outputs": [],
   "source": [
    "import pandas as pd\n",
    "import yfinance as yf\n",
    "from statsmodels.tsa.vector_ar.vecm import coint_johansen"
   ]
  },
  {
   "cell_type": "code",
   "execution_count": 4,
   "id": "d50aefbeb592c546",
   "metadata": {
    "ExecuteTime": {
     "end_time": "2024-09-23T08:12:31.669552Z",
     "start_time": "2024-09-23T08:12:30.372379Z"
    },
    "collapsed": false,
    "jupyter": {
     "outputs_hidden": false
    }
   },
   "outputs": [
    {
     "name": "stderr",
     "output_type": "stream",
     "text": [
      "[*********************100%***********************]  7 of 7 completed\n"
     ]
    }
   ],
   "source": [
    "# Grab data\n",
    "tickers = ['META','AMZN','AAPL','NFLX','GOOG','NVDA','TSLA']\n",
    "df = yf.download(tickers)"
   ]
  },
  {
   "cell_type": "code",
   "execution_count": 5,
   "id": "d94f0fa5aac762e",
   "metadata": {
    "ExecuteTime": {
     "end_time": "2024-09-23T08:12:41.123534Z",
     "start_time": "2024-09-23T08:12:41.091529Z"
    },
    "collapsed": false,
    "jupyter": {
     "outputs_hidden": false
    }
   },
   "outputs": [],
   "source": [
    "# Data with the adjusted close\n",
    "df = df['Adj Close'].dropna()"
   ]
  },
  {
   "cell_type": "code",
   "execution_count": 6,
   "id": "84582a4f8dace47b",
   "metadata": {
    "ExecuteTime": {
     "end_time": "2024-09-23T08:12:43.901089Z",
     "start_time": "2024-09-23T08:12:43.852107Z"
    },
    "collapsed": false,
    "jupyter": {
     "outputs_hidden": false
    }
   },
   "outputs": [
    {
     "data": {
      "text/html": [
       "<div>\n",
       "<style scoped>\n",
       "    .dataframe tbody tr th:only-of-type {\n",
       "        vertical-align: middle;\n",
       "    }\n",
       "\n",
       "    .dataframe tbody tr th {\n",
       "        vertical-align: top;\n",
       "    }\n",
       "\n",
       "    .dataframe thead th {\n",
       "        text-align: right;\n",
       "    }\n",
       "</style>\n",
       "<table border=\"1\" class=\"dataframe\">\n",
       "  <thead>\n",
       "    <tr style=\"text-align: right;\">\n",
       "      <th>Ticker</th>\n",
       "      <th>AAPL</th>\n",
       "      <th>AMZN</th>\n",
       "      <th>GOOG</th>\n",
       "      <th>META</th>\n",
       "      <th>NFLX</th>\n",
       "      <th>NVDA</th>\n",
       "      <th>TSLA</th>\n",
       "    </tr>\n",
       "    <tr>\n",
       "      <th>Date</th>\n",
       "      <th></th>\n",
       "      <th></th>\n",
       "      <th></th>\n",
       "      <th></th>\n",
       "      <th></th>\n",
       "      <th></th>\n",
       "      <th></th>\n",
       "    </tr>\n",
       "  </thead>\n",
       "  <tbody>\n",
       "    <tr>\n",
       "      <th>2012-05-18 00:00:00+00:00</th>\n",
       "      <td>15.996176</td>\n",
       "      <td>10.6925</td>\n",
       "      <td>14.917315</td>\n",
       "      <td>38.115242</td>\n",
       "      <td>9.994286</td>\n",
       "      <td>0.276979</td>\n",
       "      <td>1.837333</td>\n",
       "    </tr>\n",
       "    <tr>\n",
       "      <th>2012-05-21 00:00:00+00:00</th>\n",
       "      <td>16.928114</td>\n",
       "      <td>10.9055</td>\n",
       "      <td>15.257948</td>\n",
       "      <td>33.927845</td>\n",
       "      <td>10.248571</td>\n",
       "      <td>0.281794</td>\n",
       "      <td>1.918000</td>\n",
       "    </tr>\n",
       "    <tr>\n",
       "      <th>2012-05-22 00:00:00+00:00</th>\n",
       "      <td>16.798122</td>\n",
       "      <td>10.7665</td>\n",
       "      <td>14.927253</td>\n",
       "      <td>30.906942</td>\n",
       "      <td>9.672857</td>\n",
       "      <td>0.278354</td>\n",
       "      <td>2.053333</td>\n",
       "    </tr>\n",
       "    <tr>\n",
       "      <th>2012-05-23 00:00:00+00:00</th>\n",
       "      <td>17.207994</td>\n",
       "      <td>10.8640</td>\n",
       "      <td>15.142416</td>\n",
       "      <td>31.903940</td>\n",
       "      <td>10.272857</td>\n",
       "      <td>0.285233</td>\n",
       "      <td>2.068000</td>\n",
       "    </tr>\n",
       "    <tr>\n",
       "      <th>2012-05-24 00:00:00+00:00</th>\n",
       "      <td>17.049957</td>\n",
       "      <td>10.7620</td>\n",
       "      <td>14.998312</td>\n",
       "      <td>32.930847</td>\n",
       "      <td>10.038571</td>\n",
       "      <td>0.277667</td>\n",
       "      <td>2.018667</td>\n",
       "    </tr>\n",
       "  </tbody>\n",
       "</table>\n",
       "</div>"
      ],
      "text/plain": [
       "Ticker                          AAPL     AMZN       GOOG       META  \\\n",
       "Date                                                                  \n",
       "2012-05-18 00:00:00+00:00  15.996176  10.6925  14.917315  38.115242   \n",
       "2012-05-21 00:00:00+00:00  16.928114  10.9055  15.257948  33.927845   \n",
       "2012-05-22 00:00:00+00:00  16.798122  10.7665  14.927253  30.906942   \n",
       "2012-05-23 00:00:00+00:00  17.207994  10.8640  15.142416  31.903940   \n",
       "2012-05-24 00:00:00+00:00  17.049957  10.7620  14.998312  32.930847   \n",
       "\n",
       "Ticker                          NFLX      NVDA      TSLA  \n",
       "Date                                                      \n",
       "2012-05-18 00:00:00+00:00   9.994286  0.276979  1.837333  \n",
       "2012-05-21 00:00:00+00:00  10.248571  0.281794  1.918000  \n",
       "2012-05-22 00:00:00+00:00   9.672857  0.278354  2.053333  \n",
       "2012-05-23 00:00:00+00:00  10.272857  0.285233  2.068000  \n",
       "2012-05-24 00:00:00+00:00  10.038571  0.277667  2.018667  "
      ]
     },
     "execution_count": 6,
     "metadata": {},
     "output_type": "execute_result"
    }
   ],
   "source": [
    "# First data \n",
    "df.head()"
   ]
  },
  {
   "cell_type": "code",
   "execution_count": 7,
   "id": "a5d6ca7a3c7b83fd",
   "metadata": {
    "ExecuteTime": {
     "end_time": "2024-09-23T08:12:48.130675Z",
     "start_time": "2024-09-23T08:12:48.102697Z"
    },
    "collapsed": false,
    "jupyter": {
     "outputs_hidden": false
    }
   },
   "outputs": [
    {
     "data": {
      "text/html": [
       "<div>\n",
       "<style scoped>\n",
       "    .dataframe tbody tr th:only-of-type {\n",
       "        vertical-align: middle;\n",
       "    }\n",
       "\n",
       "    .dataframe tbody tr th {\n",
       "        vertical-align: top;\n",
       "    }\n",
       "\n",
       "    .dataframe thead th {\n",
       "        text-align: right;\n",
       "    }\n",
       "</style>\n",
       "<table border=\"1\" class=\"dataframe\">\n",
       "  <thead>\n",
       "    <tr style=\"text-align: right;\">\n",
       "      <th>Ticker</th>\n",
       "      <th>AAPL</th>\n",
       "      <th>AMZN</th>\n",
       "      <th>GOOG</th>\n",
       "      <th>META</th>\n",
       "      <th>NFLX</th>\n",
       "      <th>NVDA</th>\n",
       "      <th>TSLA</th>\n",
       "    </tr>\n",
       "    <tr>\n",
       "      <th>Date</th>\n",
       "      <th></th>\n",
       "      <th></th>\n",
       "      <th></th>\n",
       "      <th></th>\n",
       "      <th></th>\n",
       "      <th></th>\n",
       "      <th></th>\n",
       "    </tr>\n",
       "  </thead>\n",
       "  <tbody>\n",
       "    <tr>\n",
       "      <th>2024-09-16 00:00:00+00:00</th>\n",
       "      <td>216.320007</td>\n",
       "      <td>184.889999</td>\n",
       "      <td>158.990005</td>\n",
       "      <td>533.280029</td>\n",
       "      <td>696.500000</td>\n",
       "      <td>116.779999</td>\n",
       "      <td>226.779999</td>\n",
       "    </tr>\n",
       "    <tr>\n",
       "      <th>2024-09-17 00:00:00+00:00</th>\n",
       "      <td>216.789993</td>\n",
       "      <td>186.880005</td>\n",
       "      <td>160.279999</td>\n",
       "      <td>536.320007</td>\n",
       "      <td>706.909973</td>\n",
       "      <td>115.589996</td>\n",
       "      <td>227.869995</td>\n",
       "    </tr>\n",
       "    <tr>\n",
       "      <th>2024-09-18 00:00:00+00:00</th>\n",
       "      <td>220.690002</td>\n",
       "      <td>186.429993</td>\n",
       "      <td>160.809998</td>\n",
       "      <td>537.950012</td>\n",
       "      <td>690.469971</td>\n",
       "      <td>113.370003</td>\n",
       "      <td>227.199997</td>\n",
       "    </tr>\n",
       "    <tr>\n",
       "      <th>2024-09-19 00:00:00+00:00</th>\n",
       "      <td>228.869995</td>\n",
       "      <td>189.869995</td>\n",
       "      <td>163.240005</td>\n",
       "      <td>559.099976</td>\n",
       "      <td>704.320007</td>\n",
       "      <td>117.870003</td>\n",
       "      <td>243.919998</td>\n",
       "    </tr>\n",
       "    <tr>\n",
       "      <th>2024-09-20 00:00:00+00:00</th>\n",
       "      <td>228.199997</td>\n",
       "      <td>191.600006</td>\n",
       "      <td>164.639999</td>\n",
       "      <td>561.349976</td>\n",
       "      <td>701.030029</td>\n",
       "      <td>116.000000</td>\n",
       "      <td>238.250000</td>\n",
       "    </tr>\n",
       "  </tbody>\n",
       "</table>\n",
       "</div>"
      ],
      "text/plain": [
       "Ticker                           AAPL        AMZN        GOOG        META  \\\n",
       "Date                                                                        \n",
       "2024-09-16 00:00:00+00:00  216.320007  184.889999  158.990005  533.280029   \n",
       "2024-09-17 00:00:00+00:00  216.789993  186.880005  160.279999  536.320007   \n",
       "2024-09-18 00:00:00+00:00  220.690002  186.429993  160.809998  537.950012   \n",
       "2024-09-19 00:00:00+00:00  228.869995  189.869995  163.240005  559.099976   \n",
       "2024-09-20 00:00:00+00:00  228.199997  191.600006  164.639999  561.349976   \n",
       "\n",
       "Ticker                           NFLX        NVDA        TSLA  \n",
       "Date                                                           \n",
       "2024-09-16 00:00:00+00:00  696.500000  116.779999  226.779999  \n",
       "2024-09-17 00:00:00+00:00  706.909973  115.589996  227.869995  \n",
       "2024-09-18 00:00:00+00:00  690.469971  113.370003  227.199997  \n",
       "2024-09-19 00:00:00+00:00  704.320007  117.870003  243.919998  \n",
       "2024-09-20 00:00:00+00:00  701.030029  116.000000  238.250000  "
      ]
     },
     "execution_count": 7,
     "metadata": {},
     "output_type": "execute_result"
    }
   ],
   "source": [
    "# End data\n",
    "df.tail()"
   ]
  },
  {
   "cell_type": "code",
   "execution_count": 9,
   "id": "ee615e6efe812daa",
   "metadata": {
    "ExecuteTime": {
     "end_time": "2024-09-23T08:13:04.256880Z",
     "start_time": "2024-09-23T08:13:01.013766Z"
    },
    "collapsed": false,
    "jupyter": {
     "outputs_hidden": false
    }
   },
   "outputs": [
    {
     "data": {
      "text/plain": [
       "array([<Axes: xlabel='Date'>, <Axes: xlabel='Date'>,\n",
       "       <Axes: xlabel='Date'>, <Axes: xlabel='Date'>,\n",
       "       <Axes: xlabel='Date'>, <Axes: xlabel='Date'>,\n",
       "       <Axes: xlabel='Date'>], dtype=object)"
      ]
     },
     "execution_count": 9,
     "metadata": {},
     "output_type": "execute_result"
    },
    {
     "data": {
      "image/png": "[encoded data removed]",
      "text/plain": [
       "<Figure size 640x480 with 7 Axes>"
      ]
     },
     "metadata": {},
     "output_type": "display_data"
    }
   ],
   "source": [
    "# Visualization : co-integrated \n",
    "df.plot(subplots=True)"
   ]
  },
  {
   "cell_type": "code",
   "execution_count": 10,
   "id": "6a2770dc223343ef",
   "metadata": {
    "ExecuteTime": {
     "end_time": "2024-09-23T08:13:09.711674Z",
     "start_time": "2024-09-23T08:13:09.672717Z"
    },
    "collapsed": false,
    "jupyter": {
     "outputs_hidden": false
    }
   },
   "outputs": [],
   "source": [
    "# Tendency to move together\n",
    "# We can now do a granger co-integration test\n",
    "# It mean establish the presence of statistically significant connection  between two or more time series\n",
    "def coint_test(df, alpha=0.05):\n",
    "    \"\"\"\n",
    "    Cointegration Test and report\n",
    "    \n",
    "    \"\"\"\n",
    "    out = coint_johansen(df, -1, 5) \n",
    "    d = {'0.90':0, '0.95':1, '0.99':2}\n",
    "    traces = out.lr1\n",
    "    cvts = out.cvt[:, d[str(1-alpha)]]\n",
    "    \n",
    "    def adjust(val, length=6):\n",
    "        return str(val).ljust(length)\n",
    "    \n",
    "    print(\"Name\\t||\\t Test Stat > C(95%)\\t=>Signif\\t\\n\", '--'*20)\n",
    "    for col, trace, cvt in zip(df.columns, traces, cvts):\n",
    "        print(adjust(col), \"|| \", adjust(round(trace,2), 9), \">\", \n",
    "              adjust(cvt, 8),\" => \", trace > cvt)"
   ]
  },
  {
   "cell_type": "code",
   "execution_count": 11,
   "id": "980d6a8915c4d21e",
   "metadata": {
    "ExecuteTime": {
     "end_time": "2024-09-23T08:13:13.158679Z",
     "start_time": "2024-09-23T08:13:13.070238Z"
    },
    "collapsed": false,
    "jupyter": {
     "outputs_hidden": false
    }
   },
   "outputs": [
    {
     "name": "stdout",
     "output_type": "stream",
     "text": [
      "Name\t||\t Test Stat > C(95%)\t=>Signif\t\n",
      " ----------------------------------------\n",
      "AAPL   ||  139.94    > 111.7797  =>  True\n",
      "AMZN   ||  91.14     > 83.9383   =>  True\n",
      "GOOG   ||  53.67     > 60.0627   =>  False\n",
      "META   ||  30.75     > 40.1749   =>  False\n",
      "NFLX   ||  18.32     > 24.2761   =>  False\n",
      "NVDA   ||  6.83      > 12.3212   =>  False\n",
      "TSLA   ||  0.0       > 4.1296    =>  False\n"
     ]
    }
   ],
   "source": [
    "coint_test(df)"
   ]
  }
 ],
 "metadata": {
  "kernelspec": {
   "display_name": "Python 3 (ipykernel)",
   "language": "python",
   "name": "python3"
  },
  "language_info": {
   "codemirror_mode": {
    "name": "ipython",
    "version": 3
   },
   "file_extension": ".py",
   "mimetype": "text/x-python",
   "name": "python",
   "nbconvert_exporter": "python",
   "pygments_lexer": "ipython3",
   "version": "3.11.5"
  }
 },
 "nbformat": 4,
 "nbformat_minor": 5
}
